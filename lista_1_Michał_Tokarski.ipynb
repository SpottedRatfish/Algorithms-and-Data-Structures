{
 "cells": [
  {
   "cell_type": "code",
   "execution_count": 1,
   "metadata": {},
   "outputs": [
    {
     "data": {
      "text/plain": [
       "'Zadanie 1'"
      ]
     },
     "execution_count": 1,
     "metadata": {},
     "output_type": "execute_result"
    }
   ],
   "source": [
    "\"\"\"Zadanie 1\"\"\""
   ]
  },
  {
   "cell_type": "code",
   "execution_count": 1,
   "metadata": {},
   "outputs": [],
   "source": [
    "import random\n",
    "import time\n",
    "import matplotlib.pyplot as plt\n",
    "from scipy.optimize import curve_fit\n",
    "import numpy as np"
   ]
  },
  {
   "cell_type": "code",
   "execution_count": 2,
   "metadata": {},
   "outputs": [
    {
     "name": "stdout",
     "output_type": "stream",
     "text": [
      "13.92\n"
     ]
    }
   ],
   "source": [
    "def polynomial_n_squared(a:list, x:float):\n",
    "    \"\"\"Double loop, that's why n^2\"\"\"\n",
    "    result = 0\n",
    "    c = 1\n",
    "    for i in range(len(a)):\n",
    "        result += a[i]*c\n",
    "        c = 1\n",
    "        for j in range(i+1):\n",
    "            c *= x\n",
    "    return result\n",
    "\n",
    "print(polynomial_n_squared([0,1,2], 2.4))"
   ]
  },
  {
   "cell_type": "code",
   "execution_count": 3,
   "metadata": {},
   "outputs": [
    {
     "name": "stdout",
     "output_type": "stream",
     "text": [
      "13.92\n"
     ]
    }
   ],
   "source": [
    "def polynomial_n_logn(a:list,x:float):\n",
    "    \"\"\"Only one loop and raising x to the n power, so nlogn\"\"\"\n",
    "    result = 0\n",
    "    c = 1\n",
    "    for i in range(len(a)):\n",
    "        result += a[i]*c\n",
    "        c *= x\n",
    "\n",
    "    return result\n",
    "\n",
    "print(polynomial_n_logn([0,1,2],2.4))"
   ]
  },
  {
   "cell_type": "code",
   "execution_count": 4,
   "metadata": {},
   "outputs": [
    {
     "name": "stdout",
     "output_type": "stream",
     "text": [
      "13.92\n"
     ]
    }
   ],
   "source": [
    "def polynomial_horner(a:list,x:float):\n",
    "    \"\"\"n adding and multiplying, so O(2n)\"\"\"\n",
    "    i = len(a) - 1\n",
    "    result = a[i-1] + x*a[i]\n",
    "    for n in range(0,i-1):\n",
    "        result *= x\n",
    "        result += a[i-n-2]\n",
    "    return result\n",
    "\n",
    "print(polynomial_horner([0,1,2],2.4))"
   ]
  },
  {
   "cell_type": "code",
   "execution_count": 5,
   "metadata": {},
   "outputs": [
    {
     "data": {
      "text/plain": [
       "'Zadanie 2'"
      ]
     },
     "execution_count": 5,
     "metadata": {},
     "output_type": "execute_result"
    }
   ],
   "source": [
    "\"\"\"Zadanie 2\"\"\""
   ]
  },
  {
   "cell_type": "code",
   "execution_count": 6,
   "metadata": {},
   "outputs": [],
   "source": [
    "def example1(S):\n",
    "    \"\"\"Return the sum of the elements in sequence S.\"\"\"\n",
    "    start = time.time()\n",
    "    n = len(S)\n",
    "    total = 0\n",
    "    for j in range(n):\n",
    "        total += S[j]\n",
    "    end = time.time()\n",
    "    return total, end-start"
   ]
  },
  {
   "cell_type": "code",
   "execution_count": 7,
   "metadata": {},
   "outputs": [],
   "source": [
    "def example2(S):\n",
    "    \"\"\"Return the sum of the elements with even index in sequence S.\"\"\"\n",
    "    start = time.time()\n",
    "    n = len(S)\n",
    "    total = 0\n",
    "    for j in range(0, n, 2):\n",
    "        total += S[j]\n",
    "    end = time.time()\n",
    "    return total, end-start"
   ]
  },
  {
   "cell_type": "code",
   "execution_count": 8,
   "metadata": {},
   "outputs": [],
   "source": [
    "def example3(S):\n",
    "    \"\"\"Return the sum of the prex sums of sequence S.\"\"\"\n",
    "    start = time.time()\n",
    "    n = len(S)\n",
    "    total = 0\n",
    "    for j in range(n):\n",
    "        for k in range(1+j):\n",
    "            total += S[k]\n",
    "    end = time.time()\n",
    "    return total, end-start"
   ]
  },
  {
   "cell_type": "code",
   "execution_count": 9,
   "metadata": {},
   "outputs": [],
   "source": [
    "def example4(A, B): # assume that A and B have equal length\n",
    "    \"\"\"Return the number of elements in B equal to the sum of prex\n",
    "        sums in A.\"\"\"\n",
    "    start = time.time()\n",
    "    n = len(A)\n",
    "    count = 0\n",
    "    for i in range(n):\n",
    "        total = 0\n",
    "        for j in range(n):\n",
    "            for k in range(1+j):\n",
    "                total += A[k]\n",
    "        if B[i] == total:\n",
    "            count += 1\n",
    "    end = time.time()\n",
    "    return count, end-start"
   ]
  },
  {
   "cell_type": "code",
   "execution_count": 10,
   "metadata": {},
   "outputs": [],
   "source": [
    "x2 = np.arange(1,700)\n",
    "def func_x_3(x,a,b):\n",
    "    return a*(x**3)+b*x\n",
    "\n",
    "def func_x_2(x,a,b):\n",
    "    return a*(x**2)+b\n",
    "\n",
    "def func_x(x,a,b):\n",
    "    return a*x+b\n"
   ]
  },
  {
   "cell_type": "code",
   "execution_count": 11,
   "metadata": {},
   "outputs": [],
   "source": [
    "def main_for_2(func, lista, function):\n",
    "    \"\"\"Główna funkcja robiąca wykres punktowy dla sprawdzanej funkcji (func) dla różnej ilości danych (lista) i dostosowująca krzywą (function)\"\"\"\n",
    "    \"\"\"Nie wiedziałem jak ujednolicić jedną funkcję tak, żeby przyjmowała funkcje zarówno z jedną, jak i dwoma zmiennymi...\"\"\"\n",
    "    \"\"\"dlatego ta funkcja jest praktycznie powtórzona poniżej\"\"\"\n",
    "    xt=[]\n",
    "    t1=[]\n",
    "    for i in lista:\n",
    "        l1=[]\n",
    "        l2=[]\n",
    "        for j in range(i):\n",
    "            l1.append(random.randint(1000,3000))\n",
    "            l2.append(random.randint(1000,3000))\n",
    "\n",
    "        t=time.process_time()\n",
    "        wynik=func(l1,l2)\n",
    "        t=time.process_time()-t\n",
    "    \n",
    "        xt.append(i)\n",
    "        t1.append(t)\n",
    "\n",
    "    popt, pcov = curve_fit(function,xt,t1)\n",
    "    plt.plot(xt,t1,'ro', label=\"Dane\")\n",
    "    plt.plot(x2,function(x2,*popt),label=\"Hipoteza\")\n",
    "    plt.xlabel(\"Długość listy\")\n",
    "    plt.ylabel(\"Czas wykonania\")\n",
    "    plt.legend()\n",
    "    plt.show"
   ]
  },
  {
   "cell_type": "code",
   "execution_count": null,
   "metadata": {},
   "outputs": [
    {
     "data": {
      "image/png": "[encoded data removed]",
      "text/plain": [
       "<Figure size 432x288 with 1 Axes>"
      ]
     },
     "metadata": {
      "needs_background": "light"
     },
     "output_type": "display_data"
    }
   ],
   "source": [
    "analiza_4 = main_for_2(example4,[100,200,300,400,500,600,700,800,900],func_x_3)\n",
    "#trochę poprawić"
   ]
  },
  {
   "cell_type": "code",
   "execution_count": 17,
   "metadata": {},
   "outputs": [],
   "source": [
    "def main(func, lista, function, x3):\n",
    "    xt=[]\n",
    "    t1=[]\n",
    "    for i in lista:\n",
    "        l=[]\n",
    "        for j in range(i):\n",
    "            l.append(random.randint(1000,3000))\n",
    "\n",
    "        t=time.process_time()\n",
    "        wynik=func(l)\n",
    "        t=time.process_time()-t\n",
    "    \n",
    "        xt.append(i)\n",
    "        t1.append(t)\n",
    "\n",
    "    popt, pcov = curve_fit(function,xt,t1)\n",
    "    plt.plot(xt,t1,'ro', label=\"Dane\")\n",
    "    plt.plot(x3,function(x3,*popt),label=\"Hipoteza\")\n",
    "    plt.xlabel(\"Długość listy\")\n",
    "    plt.ylabel(\"Czas wykonania\")\n",
    "    plt.legend()\n",
    "    plt.show"
   ]
  },
  {
   "cell_type": "code",
   "execution_count": 36,
   "metadata": {},
   "outputs": [
    {
     "data": {
      "image/png": "[encoded data removed]",
      "text/plain": [
       "<Figure size 432x288 with 1 Axes>"
      ]
     },
     "metadata": {
      "needs_background": "light"
     },
     "output_type": "display_data"
    }
   ],
   "source": [
    "b=5\n",
    "n=[10000,50000,100000,500000,1000000,5000000,10000000]\n",
    "analiza_1 = main(example1,n,func_x,np.arange(10000000))"
   ]
  },
  {
   "cell_type": "code",
   "execution_count": 28,
   "metadata": {},
   "outputs": [
    {
     "data": {
      "image/png": "[encoded data removed]",
      "text/plain": [
       "<Figure size 432x288 with 1 Axes>"
      ]
     },
     "metadata": {
      "needs_background": "light"
     },
     "output_type": "display_data"
    }
   ],
   "source": [
    "n=[20*(10**b),30*(10**b),50*(10**b),70*(10**b),80*(10**b),10**(b+2)]\n",
    "analiza_2 = main(example2,n,func_x,np.arange(10**(b+2)))"
   ]
  },
  {
   "cell_type": "code",
   "execution_count": null,
   "metadata": {},
   "outputs": [
    {
     "data": {
      "image/png": "[encoded data removed]",
      "text/plain": [
       "<Figure size 432x288 with 1 Axes>"
      ]
     },
     "metadata": {
      "needs_background": "light"
     },
     "output_type": "display_data"
    }
   ],
   "source": [
    "n=[100,500,1000,1500,2000,2500,3000,3500,4000,4500,5000]\n",
    "analiza_3 = main(example3,n,func_x_2,np.arange(6000))"
   ]
  },
  {
   "cell_type": "code",
   "execution_count": null,
   "metadata": {},
   "outputs": [
    {
     "data": {
      "text/plain": [
       "'Zadanie 3'"
      ]
     },
     "execution_count": 20,
     "metadata": {},
     "output_type": "execute_result"
    }
   ],
   "source": [
    "\"\"\"Zadanie 3\"\"\""
   ]
  },
  {
   "cell_type": "code",
   "execution_count": 32,
   "metadata": {},
   "outputs": [],
   "source": [
    "def funclog(x,a,b):\n",
    "    return a*(x*np.log(x))+b"
   ]
  },
  {
   "cell_type": "code",
   "execution_count": 33,
   "metadata": {},
   "outputs": [],
   "source": [
    "def main_log(func, lista, function, x3):\n",
    "    xt=[]\n",
    "    t1=[]\n",
    "    for i in lista:\n",
    "        l=[]\n",
    "        for j in range(i):\n",
    "            l.append(random.randint(1000,5000))\n",
    "\n",
    "        t=time.process_time()\n",
    "        wynik=func(l)\n",
    "        t=time.process_time()-t\n",
    "    \n",
    "        xt.append(i)\n",
    "        t1.append(t)\n",
    "\n",
    "    popt, pcov = curve_fit(function,xt,t1)\n",
    "    plt.plot(xt,t1,'ro', label=\"Dane\")\n",
    "    plt.plot(x3,function(x3,*popt),label=\"Hipoteza\")\n",
    "    plt.xlabel(\"Długość listy\")\n",
    "    plt.ylabel(\"Czas wykonania\")\n",
    "    plt.yscale(\"log\")\n",
    "    plt.legend()\n",
    "    plt.show"
   ]
  },
  {
   "cell_type": "code",
   "execution_count": 34,
   "metadata": {},
   "outputs": [
    {
     "name": "stderr",
     "output_type": "stream",
     "text": [
      "C:\\Users\\48511\\AppData\\Local\\Temp\\ipykernel_13380\\4169115735.py:2: RuntimeWarning: divide by zero encountered in log\n",
      "  return a*(x*np.log(x))+b\n",
      "C:\\Users\\48511\\AppData\\Local\\Temp\\ipykernel_13380\\4169115735.py:2: RuntimeWarning: invalid value encountered in multiply\n",
      "  return a*(x*np.log(x))+b\n"
     ]
    },
    {
     "data": {
      "image/png": "[encoded data removed]",
      "text/plain": [
       "<Figure size 432x288 with 1 Axes>"
      ]
     },
     "metadata": {
      "needs_background": "light"
     },
     "output_type": "display_data"
    }
   ],
   "source": [
    "main_log(sorted,[150000,250000,500000,750000,1000000,1250000,1500000,1750000],funclog,np.arange(1750000))"
   ]
  },
  {
   "cell_type": "code",
   "execution_count": null,
   "metadata": {},
   "outputs": [],
   "source": []
  }
 ],
 "metadata": {
  "kernelspec": {
   "display_name": "Python 3.8.10 64-bit",
   "language": "python",
   "name": "python3"
  },
  "language_info": {
   "codemirror_mode": {
    "name": "ipython",
    "version": 3
   },
   "file_extension": ".py",
   "mimetype": "text/x-python",
   "name": "python",
   "nbconvert_exporter": "python",
   "pygments_lexer": "ipython3",
   "version": "3.8.10 (tags/v3.8.10:3d8993a, May  3 2021, 11:48:03) [MSC v.1928 64 bit (AMD64)]"
  },
  "orig_nbformat": 4,
  "vscode": {
   "interpreter": {
    "hash": "570feb405e2e27c949193ac68f46852414290d515b0ba6e5d90d076ed2284471"
   }
  }
 },
 "nbformat": 4,
 "nbformat_minor": 2
}
