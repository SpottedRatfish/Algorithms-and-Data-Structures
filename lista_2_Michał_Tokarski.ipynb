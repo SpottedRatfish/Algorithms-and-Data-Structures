{
 "cells": [
  {
   "cell_type": "code",
   "execution_count": 1,
   "metadata": {},
   "outputs": [],
   "source": [
    "###Zadanie 3"
   ]
  },
  {
   "cell_type": "code",
   "execution_count": 17,
   "metadata": {},
   "outputs": [],
   "source": [
    "def MinMaxValue(sequence:list, left:int, right:int):\n",
    "    if right <= left + 1:\n",
    "        if sequence[left] < sequence[right]:\n",
    "            return sequence[left], sequence[right]\n",
    "        return sequence[right], sequence[left]\n",
    "\n",
    "    mid = (left + right) // 2 \n",
    "    \n",
    "    (left_min, left_max) = MinMaxValue(sequence, left, mid) \n",
    "    (right_min, right_max) = MinMaxValue(sequence, mid + 1, right)\n",
    "    max_value = left_max\n",
    "    min_value = left_min\n",
    "    if right_max > max_value:\n",
    "        max_value = right_max\n",
    "    if right_min < min_value:\n",
    "        min_value = right_min\n",
    "    return min_value, max_value"
   ]
  },
  {
   "cell_type": "code",
   "execution_count": 18,
   "metadata": {},
   "outputs": [],
   "source": [
    "def HighestValue(sequence:list, n:int):\n",
    "    if n == 1:\n",
    "        return sequence[0]\n",
    "    return max(sequence[n - 1], HighestValue(sequence, n-1))\n",
    "\n",
    "\n",
    "def LowestValue(sequence:list, n:int):\n",
    "    if n == 1:\n",
    "        return sequence[0]\n",
    "    return min(sequence[n - 1], LowestValue(sequence, n-1))\n",
    "#wrzucić w jedną funkcję\n"
   ]
  },
  {
   "cell_type": "code",
   "execution_count": 19,
   "metadata": {},
   "outputs": [
    {
     "data": {
      "text/plain": [
       "(-3, 100)"
      ]
     },
     "execution_count": 19,
     "metadata": {},
     "output_type": "execute_result"
    }
   ],
   "source": [
    "a = [10, 7, -3, 100, 50, 75, 30, 12]\n",
    "HighestValue(a,len(a))\n",
    "MinMaxValue(a, 0, len(a)-1)"
   ]
  },
  {
   "cell_type": "code",
   "execution_count": 99,
   "metadata": {},
   "outputs": [
    {
     "data": {
      "text/plain": [
       "-3"
      ]
     },
     "execution_count": 99,
     "metadata": {},
     "output_type": "execute_result"
    }
   ],
   "source": [
    "LowestValue(a,len(a))"
   ]
  },
  {
   "cell_type": "code",
   "execution_count": 3,
   "metadata": {},
   "outputs": [],
   "source": [
    "###Zadanie 4"
   ]
  },
  {
   "cell_type": "code",
   "execution_count": 20,
   "metadata": {},
   "outputs": [
    {
     "data": {
      "text/plain": [
       "20"
      ]
     },
     "execution_count": 20,
     "metadata": {},
     "output_type": "execute_result"
    }
   ],
   "source": [
    "def MultiplyNByM(m:int, n:int):\n",
    "    if n == 1:\n",
    "        return m\n",
    "    return m + MultiplyNByM(m,n-1)\n",
    "\n",
    "MultiplyNByM(2,10)"
   ]
  },
  {
   "cell_type": "code",
   "execution_count": 19,
   "metadata": {},
   "outputs": [
    {
     "data": {
      "text/plain": [
       "8"
      ]
     },
     "execution_count": 19,
     "metadata": {},
     "output_type": "execute_result"
    }
   ],
   "source": [
    "\n",
    "MultiplyNByM(4,2)"
   ]
  },
  {
   "cell_type": "code",
   "execution_count": 10,
   "metadata": {},
   "outputs": [],
   "source": [
    "###Zadanie 5"
   ]
  },
  {
   "cell_type": "code",
   "execution_count": 8,
   "metadata": {},
   "outputs": [],
   "source": [
    "def IsPalindrome(word:str):\n",
    "    if len(word) < 2: \n",
    "        return True\n",
    "    elif word[0] != word[-1]: \n",
    "        return False\n",
    "    return IsPalindrome(word[1:-1])"
   ]
  },
  {
   "cell_type": "code",
   "execution_count": 9,
   "metadata": {},
   "outputs": [
    {
     "data": {
      "text/plain": [
       "True"
      ]
     },
     "execution_count": 9,
     "metadata": {},
     "output_type": "execute_result"
    }
   ],
   "source": [
    "IsPalindrome(\"kajak\")"
   ]
  },
  {
   "cell_type": "code",
   "execution_count": 13,
   "metadata": {},
   "outputs": [],
   "source": [
    "###Zadanie 6"
   ]
  },
  {
   "cell_type": "code",
   "execution_count": 11,
   "metadata": {},
   "outputs": [],
   "source": [
    "import os\n"
   ]
  },
  {
   "cell_type": "code",
   "execution_count": 91,
   "metadata": {},
   "outputs": [],
   "source": [
    "def find(path, filename):\n",
    "    fullpath = path\n",
    "    list_dir = os.listdir(path)\n",
    "\n",
    "    for element in list_dir:\n",
    "        if os.path.join(path, filename) == os.path.join(path, element):\n",
    "            fullpath = os.path.join(fullpath, filename)\n",
    "            return fullpath\n",
    "        elif os.path.isdir(os.path.join(path, element)):\n",
    "            fullpath = find(os.path.join(path, element), filename)\n",
    "            if fullpath is not None:\n",
    "                return fullpath"
   ]
  },
  {
   "cell_type": "code",
   "execution_count": 96,
   "metadata": {},
   "outputs": [
    {
     "data": {
      "text/plain": [
       "'C:\\\\Users\\\\48511\\\\Desktop\\\\Nowy folder\\\\semestr 2\\\\technologie informacyjne\\\\02.pdf'"
      ]
     },
     "execution_count": 96,
     "metadata": {},
     "output_type": "execute_result"
    }
   ],
   "source": [
    "find(r\"C:\\Users\\48511\\Desktop\\Nowy folder\", \"02.pdf\")"
   ]
  },
  {
   "cell_type": "code",
   "execution_count": null,
   "metadata": {},
   "outputs": [],
   "source": []
  }
 ],
 "metadata": {
  "kernelspec": {
   "display_name": "Python 3.8.10 64-bit",
   "language": "python",
   "name": "python3"
  },
  "language_info": {
   "codemirror_mode": {
    "name": "ipython",
    "version": 3
   },
   "file_extension": ".py",
   "mimetype": "text/x-python",
   "name": "python",
   "nbconvert_exporter": "python",
   "pygments_lexer": "ipython3",
   "version": "3.8.10 (tags/v3.8.10:3d8993a, May  3 2021, 11:48:03) [MSC v.1928 64 bit (AMD64)]"
  },
  "orig_nbformat": 4,
  "vscode": {
   "interpreter": {
    "hash": "570feb405e2e27c949193ac68f46852414290d515b0ba6e5d90d076ed2284471"
   }
  }
 },
 "nbformat": 4,
 "nbformat_minor": 2
}
