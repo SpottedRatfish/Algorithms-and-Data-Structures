{
 "cells": [
  {
   "cell_type": "code",
   "execution_count": 2,
   "metadata": {},
   "outputs": [
    {
     "name": "stdout",
     "output_type": "stream",
     "text": [
      "10\n",
      "3\n",
      "<class 'str'>\n",
      "2\n"
     ]
    },
    {
     "data": {
      "text/plain": [
       "0"
      ]
     },
     "execution_count": 2,
     "metadata": {},
     "output_type": "execute_result"
    }
   ],
   "source": [
    "import ctypes #tablice niskopoziomowe\n",
    "\n",
    "class DynamicArray:\n",
    "    \n",
    "    def __init__(self):\n",
    "        self._n = 0 #liczba elementów\n",
    "        self._capacity = 1 #rozmiar tablicy\n",
    "        self._A = self._make_array(self._capacity) #właściwa tablica\n",
    "        \n",
    "    def __len__(self):\n",
    "        return self._n\n",
    "    \n",
    "    def __str__(self):\n",
    "        return 0\n",
    "    \n",
    "    def __getitem__(self,k):\n",
    "        if not 0 <= k < self._n:\n",
    "            raise IndexError('invalid index')\n",
    "        return self._A[k]\n",
    "    \n",
    "    def append(self,obj):\n",
    "        if self._n == self._capacity:\n",
    "            self._resize(2*self._capacity)\n",
    "        self._A[self._n] = obj\n",
    "        self._n += 1\n",
    "        \n",
    "    def _resize(self,c):\n",
    "        B = self._make_array(c)\n",
    "        for k in range(self._n):\n",
    "            B[k] = self._A[k]\n",
    "        self._A = B\n",
    "        self._capacity = c\n",
    "        \n",
    "    def _make_array(self,c):\n",
    "        return (c*ctypes.py_object)()\n",
    "\n",
    "    def insert(self, k, value):\n",
    "        \"\"\"function that inserts a value at k place\"\"\"\n",
    "        if (self._n == self._capacity):\n",
    "            self._resize(2*self._capacity)\n",
    "        i = self._n - 1\n",
    "        while (i >= k) :\n",
    "           \n",
    "            self._A[i + 1] = self._A[i]\n",
    "            i -= 1\n",
    "        self._A[k] = value\n",
    "        self._n += 1\n",
    "    \n",
    "        \n",
    "    def remove(self,value):\n",
    "        \"\"\"function removes first occurence of given value in array.\"\"\"\n",
    "        B = DynamicArray()\n",
    "        B._resize(self._capacity)\n",
    "\n",
    "        did_occur = False\n",
    "        for i in range(self._n):\n",
    "            if self._A[i] == value and not did_occur:\n",
    "                did_occur = True\n",
    "            else:\n",
    "                B.append(self._A[i])\n",
    "        if did_occur:\n",
    "            self._A = B._A\n",
    "            self._n -= 1\n",
    "\n",
    "    def expand(self,seq):\n",
    "        \"\"\"append sequence (list) to array.\"\"\"\n",
    "        for i in range(len(seq)):\n",
    "            self.append(seq[i])\n",
    "\n",
    "    def __str__(self):\n",
    "        \"\"\"returns string representation of object.\"\"\"\n",
    "        string = '['\n",
    "        for i in range(self._n-1):\n",
    "            string += f\"{self._A[i]},\"\n",
    "        string += f\"{self._A[self._n-1]}]\"\n",
    "        return string\n",
    "\n",
    "\n",
    "\n",
    "S=DynamicArray()\n",
    "S.expand([10,4])\n",
    "S.insert(1,3)\n",
    "print(S[0])\n",
    "print(len(S))\n",
    "S.remove(10)\n",
    "S_str = str(S)\n",
    "print(type(S_str))\n",
    "print(len(S))\n",
    "\n",
    "def fun(A, B):           # assume that A and B have equal length\n",
    "  n = len(A)                  \n",
    "  count = 0\n",
    "  for i in range(n):         \n",
    "    total = 0\n",
    "    for j in range(n):        \n",
    "      for k in range(1+j):    \n",
    "        total += A[k]\n",
    "    if B[i] == total:\n",
    "      count += 1\n",
    "  return count\n",
    "\n",
    "fun([1,2],[1,2])"
   ]
  },
  {
   "cell_type": "code",
   "execution_count": 2,
   "metadata": {},
   "outputs": [],
   "source": [
    "#zadanie 2\n",
    "import time"
   ]
  },
  {
   "cell_type": "code",
   "execution_count": 4,
   "metadata": {},
   "outputs": [
    {
     "data": {
      "image/png": "[encoded data removed]",
      "text/plain": [
       "<Figure size 432x288 with 1 Axes>"
      ]
     },
     "metadata": {
      "needs_background": "light"
     },
     "output_type": "display_data"
    }
   ],
   "source": [
    "import time\n",
    "import matplotlib.pyplot as plt\n",
    "\n",
    "def pop_time(index, base_list):\n",
    "    \"\"\"calculates execution time of pop method for given index and list\"\"\"\n",
    "    li = base_list[:]\n",
    "    start = time.perf_counter()\n",
    "    for i in range(10000):\n",
    "        li.pop(index)\n",
    "        li = base_list[:]\n",
    "    t = time.perf_counter() - start\n",
    "    #print(base_list)\n",
    "    return t/10000\n",
    "\n",
    "def draw(xs, ys):\n",
    "    \"\"\"draws a bar plot\"\"\"\n",
    "    plt.bar(xs, ys)\n",
    "    plt.xlabel(\"index\")\n",
    "    plt.ylabel(\"mean time\")\n",
    "\n",
    "\n",
    "base_list = [_ for _ in range(1000)]\n",
    "xs = []\n",
    "ys = []\n",
    "for i in range(1000):\n",
    "    xs.append(i)\n",
    "    ys.append(pop_time(i, base_list))\n",
    "    \n",
    "draw(xs, ys)\n",
    "#perfcount ! super, dzięki temu widać\n",
    "#może 1 000 000 - za dużo, trwa mega długo"
   ]
  },
  {
   "cell_type": "code",
   "execution_count": 5,
   "metadata": {},
   "outputs": [],
   "source": [
    "#Zadanie 3"
   ]
  },
  {
   "cell_type": "code",
   "execution_count": 6,
   "metadata": {},
   "outputs": [],
   "source": [
    "def sum_n_by_n(lista):\n",
    "    sum = 0\n",
    "    for n in lista:\n",
    "        for i in n:\n",
    "            sum += i\n",
    "    return sum\n"
   ]
  },
  {
   "cell_type": "code",
   "execution_count": 7,
   "metadata": {},
   "outputs": [],
   "source": [
    "x = [[10,7,16,15],[7,3,2,7],[15,13,12,11],[0,3,2,7]]"
   ]
  },
  {
   "cell_type": "code",
   "execution_count": 8,
   "metadata": {},
   "outputs": [
    {
     "data": {
      "text/plain": [
       "130"
      ]
     },
     "execution_count": 8,
     "metadata": {},
     "output_type": "execute_result"
    }
   ],
   "source": [
    "sum_n_by_n(x)"
   ]
  },
  {
   "cell_type": "code",
   "execution_count": 9,
   "metadata": {},
   "outputs": [],
   "source": [
    "#Zadanie 4"
   ]
  },
  {
   "cell_type": "code",
   "execution_count": 20,
   "metadata": {},
   "outputs": [
    {
     "data": {
      "image/png": "[encoded data removed]",
      "text/plain": [
       "<Figure size 432x288 with 1 Axes>"
      ]
     },
     "metadata": {
      "needs_background": "light"
     },
     "output_type": "display_data"
    }
   ],
   "source": [
    "def time_extend(base_list, list2):\n",
    "    \"\"\"calculates the time of adding elements from list2 to base list using extend method\"\"\"\n",
    "    list1 = base_list[:]\n",
    "    start = time.time()\n",
    "    for _ in range(100):\n",
    "        list1.extend(list2)\n",
    "        list1 = base_list[:]\n",
    "    t = time.time() - start\n",
    "    return t/100   \n",
    "\n",
    "def time_append(base_list, list2):\n",
    "    \"\"\"calculates the time of adding elements from list2 to base list using append method\"\"\"\n",
    "    list1 = base_list[:]\n",
    "    start = time.time()\n",
    "    for _ in range(100):\n",
    "        for i in list2:\n",
    "            list1.append(i)\n",
    "        list1 = base_list[:]\n",
    "    t = time.time() - start\n",
    "    return t/100\n",
    "\n",
    "def draw(x, ext, app):\n",
    "    \"\"\"draws a scatter plot\"\"\"\n",
    "    plt.scatter(x, ext, color='blue')\n",
    "    plt.scatter(x, app, color='red')\n",
    "    plt.xlabel('amount of data')\n",
    "    plt.ylabel('time')\n",
    "\n",
    "app = []\n",
    "ext = []\n",
    "x = []\n",
    "base_list = [0]*1000\n",
    "for i in range(1000, 100001, 1000):\n",
    "    list2 = [0] * i\n",
    "    ext.append(time_extend(base_list, list2))\n",
    "    app.append(time_append(base_list, list2))\n",
    "    x.append(i)\n",
    "draw(x, ext, app)\n",
    "    "
   ]
  },
  {
   "cell_type": "code",
   "execution_count": 17,
   "metadata": {},
   "outputs": [],
   "source": [
    "#zadanie 5"
   ]
  },
  {
   "cell_type": "code",
   "execution_count": 18,
   "metadata": {},
   "outputs": [],
   "source": [
    "class Empty(Exception):\n",
    "    pass"
   ]
  },
  {
   "cell_type": "code",
   "execution_count": 19,
   "metadata": {},
   "outputs": [
    {
     "name": "stdout",
     "output_type": "stream",
     "text": [
      "2\n"
     ]
    },
    {
     "ename": "Empty",
     "evalue": "Queue is empty",
     "output_type": "error",
     "traceback": [
      "\u001b[1;31m---------------------------------------------------------------------------\u001b[0m",
      "\u001b[1;31mEmpty\u001b[0m                                     Traceback (most recent call last)",
      "\u001b[1;32mc:\\Users\\48511\\Desktop\\algorytmy i struktury danych\\lista_3_Michał_Tokarski.ipynb Komórka 12\u001b[0m in \u001b[0;36m<cell line: 59>\u001b[1;34m()\u001b[0m\n\u001b[0;32m     <a href='vscode-notebook-cell:/c%3A/Users/48511/Desktop/algorytmy%20i%20struktury%20danych/lista_3_Micha%C5%82_Tokarski.ipynb#X14sZmlsZQ%3D%3D?line=56'>57</a>\u001b[0m Q\u001b[39m.\u001b[39mdequeue()\n\u001b[0;32m     <a href='vscode-notebook-cell:/c%3A/Users/48511/Desktop/algorytmy%20i%20struktury%20danych/lista_3_Micha%C5%82_Tokarski.ipynb#X14sZmlsZQ%3D%3D?line=57'>58</a>\u001b[0m Q\u001b[39m.\u001b[39mis_empty()\n\u001b[1;32m---> <a href='vscode-notebook-cell:/c%3A/Users/48511/Desktop/algorytmy%20i%20struktury%20danych/lista_3_Micha%C5%82_Tokarski.ipynb#X14sZmlsZQ%3D%3D?line=58'>59</a>\u001b[0m Q\u001b[39m.\u001b[39;49mdequeue()\n",
      "\u001b[1;32mc:\\Users\\48511\\Desktop\\algorytmy i struktury danych\\lista_3_Michał_Tokarski.ipynb Komórka 12\u001b[0m in \u001b[0;36mQueue.dequeue\u001b[1;34m(self)\u001b[0m\n\u001b[0;32m     <a href='vscode-notebook-cell:/c%3A/Users/48511/Desktop/algorytmy%20i%20struktury%20danych/lista_3_Micha%C5%82_Tokarski.ipynb#X14sZmlsZQ%3D%3D?line=29'>30</a>\u001b[0m \u001b[39m\"\"\"deletes element at the beginning of queue\"\"\"\u001b[39;00m   \n\u001b[0;32m     <a href='vscode-notebook-cell:/c%3A/Users/48511/Desktop/algorytmy%20i%20struktury%20danych/lista_3_Micha%C5%82_Tokarski.ipynb#X14sZmlsZQ%3D%3D?line=30'>31</a>\u001b[0m \u001b[39mif\u001b[39;00m \u001b[39mself\u001b[39m\u001b[39m.\u001b[39mis_empty():\n\u001b[1;32m---> <a href='vscode-notebook-cell:/c%3A/Users/48511/Desktop/algorytmy%20i%20struktury%20danych/lista_3_Micha%C5%82_Tokarski.ipynb#X14sZmlsZQ%3D%3D?line=31'>32</a>\u001b[0m     \u001b[39mraise\u001b[39;00m Empty(\u001b[39m'\u001b[39m\u001b[39mQueue is empty\u001b[39m\u001b[39m'\u001b[39m)\n\u001b[0;32m     <a href='vscode-notebook-cell:/c%3A/Users/48511/Desktop/algorytmy%20i%20struktury%20danych/lista_3_Micha%C5%82_Tokarski.ipynb#X14sZmlsZQ%3D%3D?line=32'>33</a>\u001b[0m value \u001b[39m=\u001b[39m \u001b[39mself\u001b[39m\u001b[39m.\u001b[39m_data[\u001b[39mself\u001b[39m\u001b[39m.\u001b[39m_front]\n\u001b[0;32m     <a href='vscode-notebook-cell:/c%3A/Users/48511/Desktop/algorytmy%20i%20struktury%20danych/lista_3_Micha%C5%82_Tokarski.ipynb#X14sZmlsZQ%3D%3D?line=33'>34</a>\u001b[0m \u001b[39mself\u001b[39m\u001b[39m.\u001b[39m_data[\u001b[39mself\u001b[39m\u001b[39m.\u001b[39m_front] \u001b[39m=\u001b[39m \u001b[39mNone\u001b[39;00m\n",
      "\u001b[1;31mEmpty\u001b[0m: Queue is empty"
     ]
    }
   ],
   "source": [
    "class Queue:\n",
    "    DEFAULT_CAPACITY = 10\n",
    "\n",
    "    def __init__(self):\n",
    "        self._data = [None]*Queue.DEFAULT_CAPACITY\n",
    "        self._size = 0\n",
    "        self._front = 0\n",
    "\n",
    "    def __len__(self):\n",
    "        return self._size\n",
    "\n",
    "    def is_empty(self):\n",
    "        return self._size == 0\n",
    "\n",
    "    def first(self):\n",
    "        if self.is_empty():\n",
    "            raise Empty('Queue is empty')\n",
    "        return self._data[self._front]\n",
    "\n",
    "\n",
    "    def enqueue(self, e):\n",
    "        \"\"\"adds element at the end of queue\"\"\"\n",
    "        if self._size == len(self._data):\n",
    "            self._resize(2 * len(self._data))\n",
    "        last_ind = (self._front + self._size) % len(self._data)\n",
    "        self._data[last_ind] = e\n",
    "        self._size += 1\n",
    "\n",
    "    def dequeue(self):\n",
    "        \"\"\"deletes element at the beginning of queue\"\"\"   \n",
    "        if self.is_empty():\n",
    "            raise Empty('Queue is empty')\n",
    "        value = self._data[self._front]\n",
    "        self._data[self._front] = None\n",
    "        self._front = (self._front+1) % len(self._data) \n",
    "        self._size -= 1\n",
    "        if 0 < self._size < len(self._data) // 6:    \n",
    "            self._resize(len(self._data) // 3)\n",
    "        return value\n",
    "\n",
    "    def _resize(self,cap):\n",
    "        \"\"\"changes size of queue\"\"\"\n",
    "        old = self._data    \n",
    "        self._data = [None]*cap   \n",
    "        walk = self._front\n",
    "        for k in range(self._size): \n",
    "            self._data[k] = old[walk]\n",
    "            walk = (1 + walk) % len(old)\n",
    "        self._front = 0\n",
    "\n",
    "Q = Queue()\n",
    "Q.enqueue(5)\n",
    "Q.enqueue(3)\n",
    "print(len(Q))\n",
    "Q.dequeue()\n",
    "Q.is_empty()\n",
    "Q.dequeue()\n",
    "Q.is_empty()\n",
    "Q.dequeue()\n"
   ]
  },
  {
   "cell_type": "code",
   "execution_count": null,
   "metadata": {},
   "outputs": [],
   "source": [
    "class Duoqueue:\n",
    "    DEFAULT_CAPACITY = 10\n",
    "\n",
    "    def __init__(self):\n",
    "        self._data = [None]*Duoqueue.DEFAULT_CAPACITY\n",
    "        self._size = 0\n",
    "        self._front = 0\n",
    "\n",
    "    def __len__(self):\n",
    "        return self._size\n",
    "\n",
    "    def is_empty(self):\n",
    "        return self._size == 0\n",
    "\n",
    "    def first(self):\n",
    "        \"\"\"returns first element of duoqueue\"\"\"\n",
    "        if self.is_empty():\n",
    "            raise Empty('Duoqueue is empty')\n",
    "        return self._data[self._front]\n",
    "\n",
    "\n",
    "    def add_first(self, element):\n",
    "        \"\"\"adds element at the beginning of duoqueue\"\"\"\n",
    "        if self._size == len(self._data):\n",
    "            self._resize(2 * len(self._data))\n",
    "        self._data[(self._front - 1) % len(self._data)] = element   \n",
    "        self._front = (self._front - 1) % len(self._data) \n",
    "        self._size +=1\n",
    "\n",
    "    def delete_first(self):\n",
    "        \"\"\"deletes element at the beginning of duoqueue\"\"\"   \n",
    "        if self.is_empty():\n",
    "            raise Empty('Duoqueue is empty')\n",
    "        value = self._data[self._front]\n",
    "        self._data[self._front] = None\n",
    "        self._front = (self._front + 1) % len(self._data)\n",
    "        self._size -= 1\n",
    "        return value\n",
    "\n",
    "    def last(self):\n",
    "        \"\"\"returns last element of duoqueue\"\"\"\n",
    "        if self.is_empty():\n",
    "            raise Empty('Duoqueue is empty')\n",
    "        return self._data[(self._front + self._size -1) % len(self._data)]\n",
    "\n",
    "    def add_last(self, element):\n",
    "        \"\"\"adds element at the end of duoqueue\"\"\"\n",
    "        if self._size == len(self._data):\n",
    "            self._resize(2 * len(self._data))\n",
    "        self._data[(self._front + self._size) % len(self._data)] = element\n",
    "        self._size += 1\n",
    "\n",
    "\n",
    "    def delete_last(self):\n",
    "        \"\"\"deletes element at the end of duoqueue\"\"\"\n",
    "        if self.is_empty():\n",
    "            raise Empty('Duoqueue is empty')\n",
    "        value = self._data[(self._front + self._size - 1) % len(self._data)]  \n",
    "        self._data[(self._front + self._size) % len(self._data)] = None\n",
    "        self._size -= 1\n",
    "        return value\n",
    "\n",
    "\n",
    "    def _resize(self,cap):\n",
    "        \"\"\"changes size of queue\"\"\"\n",
    "        old = self._data\n",
    "        self._data = [None]*cap\n",
    "        walk = self._front\n",
    "        for k in range(self._size):\n",
    "            self._data[k] = old[walk]\n",
    "            walk = (1 + walk) % len(old)\n",
    "        self._front = 0"
   ]
  },
  {
   "cell_type": "code",
   "execution_count": null,
   "metadata": {},
   "outputs": [
    {
     "name": "stdout",
     "output_type": "stream",
     "text": [
      "0\n",
      "7\n",
      "15\n",
      "3\n",
      "False\n",
      "5\n"
     ]
    }
   ],
   "source": [
    "D = Duoqueue()\n",
    "print(len(D))\n",
    "D.add_last(5)\n",
    "D.add_first(3)\n",
    "D.add_last(15)\n",
    "D.add_first(7)\n",
    "print(D.first())\n",
    "print(D.delete_last())\n",
    "print(len(D))\n",
    "print(D.is_empty())\n",
    "print(D.last())"
   ]
  },
  {
   "cell_type": "code",
   "execution_count": null,
   "metadata": {},
   "outputs": [],
   "source": [
    "#Zadanie 7\n",
    "\n",
    "class Stack:\n",
    "    def __init__(self):\n",
    "        self._data = [] #nowy pusty stos\n",
    "        \n",
    "    def __len__(self):\n",
    "        return len(self._data)\n",
    "    \n",
    "    def is_empty(self):\n",
    "        return len(self._data)==0\n",
    "    \n",
    "    def push(self,e):\n",
    "        self._data.append(e)\n",
    "    def top(self):\n",
    "        if self.is_empty():\n",
    "            raise Empty('Stack is empty')\n",
    "        return self._data[-1]\n",
    "    \n",
    "    def pop(self):\n",
    "        if self.is_empty():\n",
    "            raise Empty('Stack is empty')\n",
    "        return self._data.pop()  "
   ]
  },
  {
   "cell_type": "code",
   "execution_count": null,
   "metadata": {},
   "outputs": [],
   "source": [
    "def check_HTML(string):\n",
    "    \"\"\"function that checks if all HTML tags are at the right place.\"\"\"\n",
    "    S = Stack()\n",
    "    j = string.find('<') \n",
    "    while j != -1:\n",
    "        k = string.find('>', j+1)\n",
    "        if k == -1:\n",
    "            return False\n",
    "        tag = string[j+1:k] \n",
    "        if not tag.startswith('/'): \n",
    "            S.push(tag)\n",
    "        else:  \n",
    "            if S.is_empty():\n",
    "                return False\n",
    "            if tag[1:] != S.pop( ):\n",
    "                return False\n",
    "        j = string.find('<', k+1)\n",
    "    return S.is_empty( )"
   ]
  },
  {
   "cell_type": "code",
   "execution_count": null,
   "metadata": {},
   "outputs": [
    {
     "data": {
      "text/plain": [
       "False"
      ]
     },
     "execution_count": 8,
     "metadata": {},
     "output_type": "execute_result"
    }
   ],
   "source": [
    "html_test = \"\"\"\n",
    "<body>\n",
    "<center>\n",
    "<h1> The Little Boat </h1>\n",
    "</center>\n",
    "<p> The storm tossed the little\n",
    "boat like a cheap sneaker in an\n",
    "old washing machine. The three\n",
    "drunken fishermen were used to\n",
    "such treatment, of course, but\n",
    "not the tree salesman, who even as\n",
    "a stowaway now felt that he\n",
    "had overpaid for the voyage. </p>\n",
    "<ol>\n",
    "<li> Will the salesman die? </li>\n",
    "<li> What color is the boat? </li>\n",
    "<li> And what about Naomi? </li>\n",
    "</ol>\n",
    "</body>\n",
    "\"\"\"\n",
    "check_HTML(html_test)\n"
   ]
  },
  {
   "cell_type": "code",
   "execution_count": null,
   "metadata": {},
   "outputs": [],
   "source": [
    "#zadanie 8"
   ]
  },
  {
   "cell_type": "code",
   "execution_count": null,
   "metadata": {},
   "outputs": [],
   "source": [
    "def permutation(n:int):\n",
    "    li = list(range(1,n+1))\n",
    "    c = [0] * n\n",
    "\n",
    "    print(li)\n",
    "    i = 1\n",
    "    while i < n:\n",
    "        if c[i] < i:\n",
    "            j = c[i] if i % 2 else 0\n",
    "            li[j], li[i] = li[i], li[j]\n",
    "            print(li)\n",
    "            c[i] += 1\n",
    "            i = 1\n",
    "        else:\n",
    "            c[i] = 0\n",
    "            i += 1"
   ]
  },
  {
   "cell_type": "code",
   "execution_count": null,
   "metadata": {},
   "outputs": [],
   "source": [
    "def permutation2(n:int):\n",
    "    \"\"\"function that gives all possible permutations of numbers from 1 to n\"\"\"\n",
    "    li = list(range(1,n+1))\n",
    "    S = Stack()\n",
    "    i = 0\n",
    "    perms = []\n",
    "    while i < n:\n",
    "        perms.append(li.pop(0))\n",
    "        S.push(i)\n",
    "        i = 0\n",
    "        if len(li) == 0:\n",
    "            print(perms)\n",
    "            while i == len(li) and S:\n",
    "                i = S.pop()\n",
    "                li.append(perms.pop())\n",
    "                i += 1\n"
   ]
  },
  {
   "cell_type": "code",
   "execution_count": null,
   "metadata": {},
   "outputs": [
    {
     "name": "stdout",
     "output_type": "stream",
     "text": [
      "[1, 2, 3]\n",
      "[1, 3, 2]\n",
      "[2, 3, 1]\n",
      "[2, 1, 3]\n",
      "[3, 1, 2]\n",
      "[3, 2, 1]\n"
     ]
    }
   ],
   "source": [
    "#permutation(3)\n",
    "permutation2(3)\n"
   ]
  },
  {
   "cell_type": "code",
   "execution_count": null,
   "metadata": {},
   "outputs": [],
   "source": []
  }
 ],
 "metadata": {
  "kernelspec": {
   "display_name": "Python 3.8.10 64-bit",
   "language": "python",
   "name": "python3"
  },
  "language_info": {
   "codemirror_mode": {
    "name": "ipython",
    "version": 3
   },
   "file_extension": ".py",
   "mimetype": "text/x-python",
   "name": "python",
   "nbconvert_exporter": "python",
   "pygments_lexer": "ipython3",
   "version": "3.8.10 (tags/v3.8.10:3d8993a, May  3 2021, 11:48:03) [MSC v.1928 64 bit (AMD64)]"
  },
  "orig_nbformat": 4,
  "vscode": {
   "interpreter": {
    "hash": "570feb405e2e27c949193ac68f46852414290d515b0ba6e5d90d076ed2284471"
   }
  }
 },
 "nbformat": 4,
 "nbformat_minor": 2
}
